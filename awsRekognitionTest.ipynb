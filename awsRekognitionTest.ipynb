{
 "cells": [
  {
   "cell_type": "code",
   "execution_count": 3,
   "id": "ca9353fc",
   "metadata": {},
   "outputs": [
    {
     "name": "stdout",
     "output_type": "stream",
     "text": [
      "Requirement already satisfied: boto3 in c:\\users\\ilkyu\\anaconda3\\lib\\site-packages (1.25.5)\n",
      "Requirement already satisfied: s3transfer<0.7.0,>=0.6.0 in c:\\users\\ilkyu\\anaconda3\\lib\\site-packages (from boto3) (0.6.0)\n",
      "Requirement already satisfied: botocore<1.29.0,>=1.28.5 in c:\\users\\ilkyu\\anaconda3\\lib\\site-packages (from boto3) (1.28.5)\n",
      "Requirement already satisfied: jmespath<2.0.0,>=0.7.1 in c:\\users\\ilkyu\\anaconda3\\lib\\site-packages (from boto3) (1.0.1)\n",
      "Requirement already satisfied: python-dateutil<3.0.0,>=2.1 in c:\\users\\ilkyu\\anaconda3\\lib\\site-packages (from botocore<1.29.0,>=1.28.5->boto3) (2.8.2)\n",
      "Requirement already satisfied: urllib3<1.27,>=1.25.4 in c:\\users\\ilkyu\\anaconda3\\lib\\site-packages (from botocore<1.29.0,>=1.28.5->boto3) (1.26.6)\n",
      "Requirement already satisfied: six>=1.5 in c:\\users\\ilkyu\\anaconda3\\lib\\site-packages (from python-dateutil<3.0.0,>=2.1->botocore<1.29.0,>=1.28.5->boto3) (1.16.0)\n"
     ]
    }
   ],
   "source": [
    "!pip install --upgrade boto3"
   ]
  },
  {
   "cell_type": "code",
   "execution_count": 4,
   "id": "eb34ae75",
   "metadata": {},
   "outputs": [
    {
     "data": {
      "text/plain": [
       "{'ResponseMetadata': {'RequestId': 'BRTH9RFW0W275M9A',\n",
       "  'HostId': 'gxfX/t/NWOPxYFote9Z+RfX9zFC7N/To8v5naTD9lHPRbVZlMJrTfS8ig4MwA305JTLgxFQAG1I=',\n",
       "  'HTTPStatusCode': 200,\n",
       "  'HTTPHeaders': {'x-amz-id-2': 'gxfX/t/NWOPxYFote9Z+RfX9zFC7N/To8v5naTD9lHPRbVZlMJrTfS8ig4MwA305JTLgxFQAG1I=',\n",
       "   'x-amz-request-id': 'BRTH9RFW0W275M9A',\n",
       "   'date': 'Tue, 01 Nov 2022 14:44:42 GMT',\n",
       "   'content-type': 'application/xml',\n",
       "   'transfer-encoding': 'chunked',\n",
       "   'server': 'AmazonS3'},\n",
       "  'RetryAttempts': 0},\n",
       " 'Buckets': [],\n",
       " 'Owner': {'ID': 'd87fc70bd3bc81a35603e2dbd3fa417490c0bff7c34e7e0f488ee7fe5fd224ce'}}"
      ]
     },
     "execution_count": 4,
     "metadata": {},
     "output_type": "execute_result"
    }
   ],
   "source": [
    "import boto3\n",
    "\n",
    "client = boto3.client('s3', region_name='ap-northeast-2' )\n",
    "client.list_buckets()"
   ]
  },
  {
   "cell_type": "code",
   "execution_count": 7,
   "id": "e4aec82a",
   "metadata": {},
   "outputs": [
    {
     "data": {
      "text/plain": [
       "'C:\\\\Users\\\\ilkyu\\\\pydeep300'"
      ]
     },
     "execution_count": 7,
     "metadata": {},
     "output_type": "execute_result"
    }
   ],
   "source": [
    "pwd"
   ]
  },
  {
   "cell_type": "code",
   "execution_count": 10,
   "id": "a67a1e24",
   "metadata": {},
   "outputs": [
    {
     "name": "stdout",
     "output_type": "stream",
     "text": [
      "{\n",
      "  \"Labels\": [\n",
      "    {\n",
      "      \"Name\": \"Dog\",\n",
      "      \"Confidence\": 99.16097259521484,\n",
      "      \"Instances\": [\n",
      "        {\n",
      "          \"BoundingBox\": {\n",
      "            \"Width\": 0.6847227811813354,\n",
      "            \"Height\": 0.945769727230072,\n",
      "            \"Left\": 0.20920430123806,\n",
      "            \"Top\": 0.008024330250918865\n",
      "          },\n",
      "          \"Confidence\": 99.16097259521484\n",
      "        }\n",
      "      ],\n",
      "      \"Parents\": [\n",
      "        {\n",
      "          \"Name\": \"Animal\"\n",
      "        },\n",
      "        {\n",
      "          \"Name\": \"Canine\"\n",
      "        },\n",
      "        {\n",
      "          \"Name\": \"Mammal\"\n",
      "        },\n",
      "        {\n",
      "          \"Name\": \"Pet\"\n",
      "        }\n",
      "      ]\n",
      "    },\n",
      "    {\n",
      "      \"Name\": \"Canine\",\n",
      "      \"Confidence\": 99.16097259521484,\n",
      "      \"Instances\": [],\n",
      "      \"Parents\": [\n",
      "        {\n",
      "          \"Name\": \"Animal\"\n",
      "        },\n",
      "        {\n",
      "          \"Name\": \"Mammal\"\n",
      "        }\n",
      "      ]\n",
      "    },\n",
      "    {\n",
      "      \"Name\": \"Pet\",\n",
      "      \"Confidence\": 99.16097259521484,\n",
      "      \"Instances\": [],\n",
      "      \"Parents\": [\n",
      "        {\n",
      "          \"Name\": \"Animal\"\n",
      "        }\n",
      "      ]\n",
      "    },\n",
      "    {\n",
      "      \"Name\": \"Mammal\",\n",
      "      \"Confidence\": 99.16097259521484,\n",
      "      \"Instances\": [],\n",
      "      \"Parents\": [\n",
      "        {\n",
      "          \"Name\": \"Animal\"\n",
      "        }\n",
      "      ]\n",
      "    },\n",
      "    {\n",
      "      \"Name\": \"Animal\",\n",
      "      \"Confidence\": 99.16097259521484,\n",
      "      \"Instances\": [],\n",
      "      \"Parents\": []\n",
      "    },\n",
      "    {\n",
      "      \"Name\": \"Poodle\",\n",
      "      \"Confidence\": 98.47441101074219,\n",
      "      \"Instances\": [],\n",
      "      \"Parents\": [\n",
      "        {\n",
      "          \"Name\": \"Animal\"\n",
      "        },\n",
      "        {\n",
      "          \"Name\": \"Canine\"\n",
      "        },\n",
      "        {\n",
      "          \"Name\": \"Dog\"\n",
      "        },\n",
      "        {\n",
      "          \"Name\": \"Mammal\"\n",
      "        },\n",
      "        {\n",
      "          \"Name\": \"Pet\"\n",
      "        }\n",
      "      ]\n",
      "    },\n",
      "    {\n",
      "      \"Name\": \"Grass\",\n",
      "      \"Confidence\": 98.34910583496094,\n",
      "      \"Instances\": [],\n",
      "      \"Parents\": [\n",
      "        {\n",
      "          \"Name\": \"Plant\"\n",
      "        }\n",
      "      ]\n",
      "    },\n",
      "    {\n",
      "      \"Name\": \"Plant\",\n",
      "      \"Confidence\": 98.34910583496094,\n",
      "      \"Instances\": [],\n",
      "      \"Parents\": []\n",
      "    },\n",
      "    {\n",
      "      \"Name\": \"Lawn\",\n",
      "      \"Confidence\": 55.86798858642578,\n",
      "      \"Instances\": [],\n",
      "      \"Parents\": [\n",
      "        {\n",
      "          \"Name\": \"Grass\"\n",
      "        },\n",
      "        {\n",
      "          \"Name\": \"Plant\"\n",
      "        }\n",
      "      ]\n",
      "    },\n",
      "    {\n",
      "      \"Name\": \"White Dog\",\n",
      "      \"Confidence\": 55.456138610839844,\n",
      "      \"Instances\": [],\n",
      "      \"Parents\": [\n",
      "        {\n",
      "          \"Name\": \"Animal\"\n",
      "        },\n",
      "        {\n",
      "          \"Name\": \"Canine\"\n",
      "        },\n",
      "        {\n",
      "          \"Name\": \"Dog\"\n",
      "        },\n",
      "        {\n",
      "          \"Name\": \"Mammal\"\n",
      "        },\n",
      "        {\n",
      "          \"Name\": \"Pet\"\n",
      "        }\n",
      "      ]\n",
      "    }\n",
      "  ],\n",
      "  \"LabelModelVersion\": \"3.0\",\n",
      "  \"ResponseMetadata\": {\n",
      "    \"RequestId\": \"355b4c6b-866b-4537-a9ad-116147dea5af\",\n",
      "    \"HTTPStatusCode\": 200,\n",
      "    \"HTTPHeaders\": {\n",
      "      \"x-amzn-requestid\": \"355b4c6b-866b-4537-a9ad-116147dea5af\",\n",
      "      \"content-type\": \"application/x-amz-json-1.1\",\n",
      "      \"content-length\": \"1871\",\n",
      "      \"date\": \"Tue, 01 Nov 2022 15:05:50 GMT\"\n",
      "    },\n",
      "    \"RetryAttempts\": 0\n",
      "  }\n",
      "}\n"
     ]
    }
   ],
   "source": [
    "import boto3\n",
    "import json\n",
    "\n",
    "client = boto3.client('rekognition', region_name='ap-northeast-2')\n",
    "\n",
    "with open('dog.jpg', 'rb') as image_file:\n",
    "    bytes_data = image_file.read()\n",
    "    response = client.detect_labels(Image={'Bytes': bytes_data})\n",
    "    \n",
    "print(json.dumps(response, indent=2))"
   ]
  },
  {
   "cell_type": "code",
   "execution_count": null,
   "id": "02289c6a",
   "metadata": {},
   "outputs": [],
   "source": []
  }
 ],
 "metadata": {
  "kernelspec": {
   "display_name": "Python 3 (ipykernel)",
   "language": "python",
   "name": "python3"
  },
  "language_info": {
   "codemirror_mode": {
    "name": "ipython",
    "version": 3
   },
   "file_extension": ".py",
   "mimetype": "text/x-python",
   "name": "python",
   "nbconvert_exporter": "python",
   "pygments_lexer": "ipython3",
   "version": "3.8.11"
  }
 },
 "nbformat": 4,
 "nbformat_minor": 5
}
